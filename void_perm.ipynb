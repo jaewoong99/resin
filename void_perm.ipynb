{
 "cells": [
  {
   "cell_type": "code",
   "execution_count": 31,
   "metadata": {},
   "outputs": [],
   "source": [
    "import numpy as np\n",
    "import matplotlib.pyplot as plt"
   ]
  },
  {
   "cell_type": "code",
   "execution_count": 32,
   "metadata": {},
   "outputs": [],
   "source": [
    "L = 500 # [mm]\n",
    "W = 150 # [mm]\n",
    "H = 2   # [mm]\n",
    "perm = 5/10000 # [mm^2]\n",
    "Vf = 0.55\n",
    "Patm = 101325 # [Pa]\n",
    "R = 8.3145 # [J/ mol K]\n"
   ]
  },
  {
   "cell_type": "code",
   "execution_count": 33,
   "metadata": {},
   "outputs": [],
   "source": [
    "A = 153000 # [1/s]\n",
    "dE = 66500 # [J/mol]\n",
    "m = 0.813\n",
    "n = 2.74\n",
    "C = 43.1\n",
    "a_C0 = -1.684\n",
    "a_CT = 5.475/1000 # [1/K]\n",
    "def dadt(alpha, T):\n",
    "    K = A*np.exp(-dE/(R*T))\n",
    "    num = K*alpha**m * (1-alpha)**n\n",
    "    den = 1+ np.exp(alpha-a_C0-a_CT*T)\n",
    "    return num/den"
   ]
  },
  {
   "cell_type": "code",
   "execution_count": 34,
   "metadata": {},
   "outputs": [],
   "source": [
    "eta01 = 7.5/10**11\n",
    "eta02 = 0.0041\n",
    "E1 = 81908\n",
    "E2 = 13228\n",
    "a_g = 0.545\n",
    "Arheo = 2.466\n",
    "def rheo(alpha, T):\n",
    "    # return viscosity\n",
    "    e1 = eta01*np.exp(E1/(R*T))\n",
    "    if a_g - alpha <= 0.001:\n",
    "        e2 = 1e6\n",
    "    else:\n",
    "        e2 = eta02*np.exp(E2/(R*T)) * (a_g/(a_g-alpha))**Arheo\n",
    "    return e1+e2"
   ]
  },
  {
   "cell_type": "code",
   "execution_count": 35,
   "metadata": {},
   "outputs": [],
   "source": [
    "L = 0.01\n",
    "Ls = [L]\n",
    "alpha = 0.01\n",
    "alphas = []\n",
    "mus = []\n",
    "temp = 20+273 #[K]\n",
    "for i in range(3000):\n",
    "    mu = rheo(alpha, temp)\n",
    "    mus.append(mu)\n",
    "    dLdt = perm/mu*Patm/L\n",
    "    L += dLdt\n",
    "    Ls.append(L)\n",
    "    alphas.append(alpha)\n",
    "    alpha += dadt(alpha, temp)\n",
    "    temp += 5/60\n"
   ]
  },
  {
   "cell_type": "code",
   "execution_count": 36,
   "metadata": {},
   "outputs": [
    {
     "data": {
      "text/plain": [
       "[<matplotlib.lines.Line2D at 0x7fe9d8244790>]"
      ]
     },
     "execution_count": 36,
     "metadata": {},
     "output_type": "execute_result"
    },
    {
     "data": {
      "image/png": "[encoded data removed]",
      "text/plain": [
       "<Figure size 432x288 with 1 Axes>"
      ]
     },
     "metadata": {
      "needs_background": "light"
     },
     "output_type": "display_data"
    }
   ],
   "source": [
    "plt.plot(alphas)"
   ]
  },
  {
   "cell_type": "code",
   "execution_count": 38,
   "metadata": {},
   "outputs": [
    {
     "data": {
      "text/plain": [
       "[<matplotlib.lines.Line2D at 0x7fe9c9c6f6d0>]"
      ]
     },
     "execution_count": 38,
     "metadata": {},
     "output_type": "execute_result"
    },
    {
     "data": {
      "image/png": "[encoded data removed]",
      "text/plain": [
       "<Figure size 432x288 with 1 Axes>"
      ]
     },
     "metadata": {
      "needs_background": "light"
     },
     "output_type": "display_data"
    }
   ],
   "source": [
    "plt.plot(mus[:2200])"
   ]
  }
 ],
 "metadata": {
  "kernelspec": {
   "display_name": "play",
   "language": "python",
   "name": "python3"
  },
  "language_info": {
   "codemirror_mode": {
    "name": "ipython",
    "version": 3
   },
   "file_extension": ".py",
   "mimetype": "text/x-python",
   "name": "python",
   "nbconvert_exporter": "python",
   "pygments_lexer": "ipython3",
   "version": "3.8.13"
  },
  "orig_nbformat": 4,
  "vscode": {
   "interpreter": {
    "hash": "fc0ceb78eb750a9946d0676e080ad91d0a42b7db2cc2996cf6ce61f485bbfe20"
   }
  }
 },
 "nbformat": 4,
 "nbformat_minor": 2
}
