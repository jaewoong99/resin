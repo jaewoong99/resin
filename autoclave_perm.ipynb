{
 "cells": [
  {
   "cell_type": "code",
   "execution_count": 1,
   "metadata": {},
   "outputs": [],
   "source": [
    "import numpy as np\n",
    "import matplotlib.pyplot as plt"
   ]
  },
  {
   "attachments": {},
   "cell_type": "markdown",
   "metadata": {},
   "source": [
    "초기 void fraction 10%를 가지는 130 $\\mu$ m의 ply 16개로 만든 laminate를 $110^{\\circ}$ C 에서 30분-1시간 wetting 했을 때, void가 얼마나 남아 있을지 구현한다."
   ]
  },
  {
   "cell_type": "code",
   "execution_count": 2,
   "metadata": {},
   "outputs": [],
   "source": [
    "L = 500 # [mm]\n",
    "H = 0.13*16 #[mm]\n",
    "Vf = 0.55\n",
    "R = 8.3145 # [J/ mol K]"
   ]
  },
  {
   "cell_type": "code",
   "execution_count": 3,
   "metadata": {},
   "outputs": [],
   "source": [
    "A = 153000 # [1/s]\n",
    "dE = 66500 # [J/mol]\n",
    "m = 0.813\n",
    "n = 2.74\n",
    "C = 43.1\n",
    "a_C0 = -1.684\n",
    "a_CT = 5.475/1000 # [1/K]\n",
    "def dadt(alpha, T):\n",
    "    Ka = A*np.exp(-dE/(R*T))\n",
    "    num = Ka*alpha**m * (1-alpha)**n\n",
    "    den = 1+ np.exp(alpha-a_C0-a_CT*T)\n",
    "    return num/den"
   ]
  },
  {
   "cell_type": "code",
   "execution_count": 5,
   "metadata": {},
   "outputs": [],
   "source": [
    "gas_mu0 = 1.81/10**5 # [Pa s]\n",
    "def gas_viscosity(T):\n",
    "    # Sutherland's Formula\n",
    "    gas_mu = gas_mu0*((293+117)/(T+117))*(T/293)**0.5\n",
    "    return gas_mu"
   ]
  },
  {
   "cell_type": "code",
   "execution_count": 19,
   "metadata": {},
   "outputs": [],
   "source": [
    "voids0 = 0.1*H*(2*np.arange(1,L//2)-1)"
   ]
  },
  {
   "cell_type": "code",
   "execution_count": 38,
   "metadata": {},
   "outputs": [],
   "source": [
    "void_frac = 0.1\n",
    "void_total = void_frac*L*L*H # [mm^3]\n",
    "Pv = 10 # [kPa]\n",
    "alpha = 0.01\n",
    "K0 = 1/10**12 # [mm^2]\n",
    "K = 10*K0\n",
    "n = 100\n",
    "Pcs = np.linspace(300, 600, n)\n",
    "ramp = [0]*n\n",
    "results = [0]*n\n",
    "voids0 = np.append(void_frac*H*(2*np.arange(1,L//2)-1),[0])\n",
    "Ts0 = np.concatenate((np.linspace(20+273, 110+273, 18*60), (110+273)*np.ones(3600)), axis=None)\n",
    "for k in range(n):\n",
    "    Pc = Pcs[k]\n",
    "    temp = 20+273 # [K]\n",
    "    voids = voids0\n",
    "    Ps = np.sqrt(2*np.arange(L//2-1)*(Pv*Pv-Pc*Pc)/L + Pc*Pc)\n",
    "    Ts = Ts0\n",
    "    i = 1\n",
    "    for t in Ts:\n",
    "        mu = gas_viscosity(temp)\n",
    "        Q = (2*np.arange(L//2-1)+1)*H*K/(mu*L)*(Pc*Pc-Pv*Pv)/Ps\n",
    "        voids = voids - (np.concatenate((Q,[0]))) + np.concatenate(([0],Q))\n",
    "        alpha += dadt(alpha, temp)\n",
    "        temp += 5/60\n",
    "        i += 1\n",
    "        if i == 18*60:\n",
    "            ramp[k] = voids[-1]\n",
    "    results[k] = 4*voids[-1]\n",
    "    "
   ]
  },
  {
   "cell_type": "code",
   "execution_count": 42,
   "metadata": {},
   "outputs": [
    {
     "data": {
      "image/png": "[encoded data removed]",
      "text/plain": [
       "<Figure size 432x288 with 1 Axes>"
      ]
     },
     "metadata": {
      "needs_background": "light"
     },
     "output_type": "display_data"
    }
   ],
   "source": [
    "plt.plot(Pcs, results)\n",
    "plt.xlabel(\"Pressure [kPa]\")\n",
    "plt.ylabel(\"Void [$mm^3$]\")\n",
    "plt.grid()"
   ]
  },
  {
   "cell_type": "code",
   "execution_count": 40,
   "metadata": {},
   "outputs": [
    {
     "data": {
      "text/plain": [
       "[<matplotlib.lines.Line2D at 0x7fe4e319ad00>]"
      ]
     },
     "execution_count": 40,
     "metadata": {},
     "output_type": "execute_result"
    },
    {
     "data": {
      "image/png": "[encoded data removed]",
      "text/plain": [
       "<Figure size 432x288 with 1 Axes>"
      ]
     },
     "metadata": {
      "needs_background": "light"
     },
     "output_type": "display_data"
    }
   ],
   "source": [
    "plt.plot(Pcs, ramp)"
   ]
  },
  {
   "cell_type": "code",
   "execution_count": 41,
   "metadata": {},
   "outputs": [
    {
     "name": "stdout",
     "output_type": "stream",
     "text": [
      "52000.0 160.98802724567838 0.0030959236008784303\n"
     ]
    }
   ],
   "source": [
    "print(void_total, 4*voids[-1], 4*voids[-1]/void_total)"
   ]
  }
 ],
 "metadata": {
  "kernelspec": {
   "display_name": "play",
   "language": "python",
   "name": "python3"
  },
  "language_info": {
   "codemirror_mode": {
    "name": "ipython",
    "version": 3
   },
   "file_extension": ".py",
   "mimetype": "text/x-python",
   "name": "python",
   "nbconvert_exporter": "python",
   "pygments_lexer": "ipython3",
   "version": "3.8.13"
  },
  "orig_nbformat": 4,
  "vscode": {
   "interpreter": {
    "hash": "fc0ceb78eb750a9946d0676e080ad91d0a42b7db2cc2996cf6ce61f485bbfe20"
   }
  }
 },
 "nbformat": 4,
 "nbformat_minor": 2
}
