{
 "cells": [
  {
   "attachments": {},
   "cell_type": "markdown",
   "metadata": {},
   "source": [
    "## Void growth and resin transport during processing of thermosetting—Matrix composites\n",
    "J. Kardos, M. Duduković and R. Dave\n",
    "\n",
    "Epoxy resins and composites IV 1986 Pages 101-123\n",
    "\n",
    "https://link.springer.com/chapter/10.1007/3-540-16423-5_13"
   ]
  },
  {
   "cell_type": "code",
   "execution_count": 75,
   "metadata": {},
   "outputs": [],
   "source": [
    "import numpy as np\n",
    "import matplotlib.pyplot as plt"
   ]
  },
  {
   "cell_type": "code",
   "execution_count": 76,
   "metadata": {},
   "outputs": [],
   "source": [
    "RH = 0.5 # initial relative humidity: humidity at which the prepreg was equilibrated\n",
    "C_infty = 2.13/(10**6) * RH**2 # [g/cc]\n",
    "p0 = 0.1 # [atm]\n",
    "T0 = 298 # [K]\n",
    "d_B0 = 0.1 # [cm]\n",
    "rho_R = 1.22 # [g/cc]\n",
    "M_H2O = 18.015 # [g/mol]\n",
    "M_air = 28.96 # [g/mol]\n",
    "R = 82.057 # [cc atm / K mol]\n",
    "D0 = 0.105 # [cm^2/h]\n",
    "EpR = 2817 # [K]"
   ]
  },
  {
   "cell_type": "code",
   "execution_count": 77,
   "metadata": {},
   "outputs": [],
   "source": [
    "def simulate(d_B, p, T):\n",
    "    \"\"\"\n",
    "    input : d_B (bubble diameter at time t-1)[cm], p (pressure profile in the resin),\n",
    "            T (autoclave temperature)\n",
    "    output : next_d_B (bubble diameter at time t)[cm]\n",
    "    \"\"\" \n",
    "    # calculate C_sat\n",
    "    y_air = 0#p0*T/(p*T0) * (d_B0/d_B)**3\n",
    "    p_H2O = (1-y_air)*p # [atm]\n",
    "    C_sat = 8.651/(10**14)*np.exp(9784/T)*p_H2O**2 # [g/cc]\n",
    "    # calculate ϱ_g\n",
    "    rho_g = ( (1-y_air)*(M_H2O*p) + y_air*(M_air*p) ) / (R*T) # [g/cc]\n",
    "    # calculate D\n",
    "    D = D0 * np.exp(-EpR/T)\n",
    "    # calculate β\n",
    "    beta = (C_infty - C_sat) / rho_g\n",
    "    print(C_infty, C_sat, rho_g)\n",
    "    next_d_B = np.sqrt(d_B**2 + 16*D/60*beta**2)\n",
    "    return next_d_B"
   ]
  },
  {
   "cell_type": "code",
   "execution_count": 78,
   "metadata": {},
   "outputs": [
    {
     "name": "stdout",
     "output_type": "stream",
     "text": [
      "2.13e-06 0.1570059146198045 7.367198427218664e-05\n",
      "2.13e-06 0.1261412165471366 7.318083771037206e-05\n",
      "2.13e-06 0.10163822611300626 7.269619640103185e-05\n",
      "2.13e-06 0.08212801911722291 7.221793195102506e-05\n",
      "2.13e-06 0.0665480951389837 7.174591932389418e-05\n",
      "2.13e-06 0.05407124227876566 7.128003673088188e-05\n",
      "2.13e-06 0.044051483737972 7.082016552616651e-05\n",
      "2.13e-06 0.03598287285602637 7.036619010612699e-05\n",
      "2.13e-06 0.029467983858756683 6.991799781245738e-05\n",
      "2.13e-06 0.024193742581895453 6.947547883896081e-05\n",
      "2.13e-06 0.019912831237709247 6.903852614186044e-05\n",
      "2.13e-06 0.016429339202409493 6.86070353534738e-05\n",
      "2.13e-06 0.013587657989984837 6.818090469910441e-05\n",
      "2.13e-06 0.011263862321616974 6.776003491701117e-05\n",
      "2.13e-06 0.009359001906904212 6.734432918132397e-05\n",
      "2.13e-06 0.007793865929092897 6.693369302777932e-05\n",
      "2.13e-06 0.006504885830420042 6.652803428215642e-05\n",
      "2.13e-06 0.005440920359817847 6.612726299130006e-05\n",
      "2.13e-06 0.004560726294387479 6.573129135662161e-05\n",
      "2.13e-06 0.003830963473905933 6.534003366997505e-05\n",
      "2.13e-06 0.003224617293119309 6.495340625180952e-05\n",
      "2.13e-06 0.0027197481946084744 6.457132739150476e-05\n",
      "2.13e-06 0.002298497955518307 6.419371728980005e-05\n",
      "2.13e-06 0.0019462981376361086 6.382049800323145e-05\n",
      "2.13e-06 0.0016512380826746759 6.3451593390496e-05\n",
      "2.13e-06 0.0014035591225479722 6.308692906066557e-05\n",
      "2.13e-06 0.001195248874119591 6.272643232317605e-05\n",
      "2.13e-06 0.0010197150828431352 6.237003213952164e-05\n",
      "2.13e-06 0.0008715228382998952 6.201765907658649e-05\n",
      "2.13e-06 0.0007461823883107096 6.166924526154948e-05\n",
      "2.13e-06 0.0006399774426065297 6.132472433830061e-05\n",
      "2.13e-06 0.0005498259474910351 6.098403142531005e-05\n",
      "2.13e-06 0.0004731669569096165 6.064710307489397e-05\n",
      "2.13e-06 0.0004078685211468154 6.031387723382313e-05\n",
      "2.13e-06 0.0003521525380333705 5.9984293205223e-05\n",
      "2.13e-06 0.0003045333219935091 5.965829161171635e-05\n",
      "2.13e-06 0.00026376728930285835 5.933581435976113e-05\n",
      "2.13e-06 0.0002288116692278315 5.901680460513876e-05\n",
      "2.13e-06 0.00019879055812318622 5.870120671954978e-05\n",
      "2.13e-06 0.0001729669588589633 5.838896625827558e-05\n",
      "2.13e-06 0.00015071970821052392 5.808002992886671e-05\n",
      "2.13e-06 0.0001315244034951706 5.777434556082005e-05\n",
      "2.13e-06 0.00011493760734241329 5.7471862076208425e-05\n",
      "2.13e-06 0.00010058374437952366 5.717252946122818e-05\n",
      "2.13e-06 8.814421239157805e-05 5.687629873863114e-05\n",
      "2.13e-06 7.734831839830302e-05 5.658312194100932e-05\n",
      "2.13e-06 6.796572122462275e-05 5.629295208490159e-05\n",
      "2.13e-06 5.98001198256008e-05 5.60057431456929e-05\n",
      "2.13e-06 5.2683973487608176e-05 5.572145003327822e-05\n",
      "2.13e-06 4.647407816454995e-05 5.544002856846369e-05\n",
      "2.13e-06 4.1047854299661735e-05 5.516143546007944e-05\n",
      "2.13e-06 3.6300226875236223e-05 5.488562828277904e-05\n",
      "2.13e-06 3.2140999205059656e-05 5.461256545550153e-05\n",
      "2.13e-06 2.8492639006363866e-05 5.4342206220573315e-05\n",
      "2.13e-06 2.528840926005903e-05 5.407451062342763e-05\n"
     ]
    }
   ],
   "source": [
    "ds = []\n",
    "d_B, p, T = 0.1, 0.1, 298\n",
    "# stage 1\n",
    "while (T < 408):\n",
    "    d_B = simulate(d_B, p, T)\n",
    "    ds.append(d_B)\n",
    "    T += 2"
   ]
  },
  {
   "cell_type": "code",
   "execution_count": 79,
   "metadata": {},
   "outputs": [
    {
     "data": {
      "text/plain": [
       "[<matplotlib.lines.Line2D at 0x7fb91a73f580>]"
      ]
     },
     "execution_count": 79,
     "metadata": {},
     "output_type": "execute_result"
    },
    {
     "data": {
      "image/png": "[encoded data removed]",
      "text/plain": [
       "<Figure size 432x288 with 1 Axes>"
      ]
     },
     "metadata": {
      "needs_background": "light"
     },
     "output_type": "display_data"
    }
   ],
   "source": [
    "plt.plot(ds)"
   ]
  }
 ],
 "metadata": {
  "kernelspec": {
   "display_name": "play",
   "language": "python",
   "name": "python3"
  },
  "language_info": {
   "codemirror_mode": {
    "name": "ipython",
    "version": 3
   },
   "file_extension": ".py",
   "mimetype": "text/x-python",
   "name": "python",
   "nbconvert_exporter": "python",
   "pygments_lexer": "ipython3",
   "version": "3.8.13"
  },
  "orig_nbformat": 4,
  "vscode": {
   "interpreter": {
    "hash": "fc0ceb78eb750a9946d0676e080ad91d0a42b7db2cc2996cf6ce61f485bbfe20"
   }
  }
 },
 "nbformat": 4,
 "nbformat_minor": 2
}
